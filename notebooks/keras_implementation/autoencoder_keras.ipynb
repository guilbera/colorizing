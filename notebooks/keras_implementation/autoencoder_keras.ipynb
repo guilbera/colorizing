{
  "nbformat": 4,
  "nbformat_minor": 0,
  "metadata": {
    "colab": {
      "name": "autoencoder_keras.ipynb",
      "provenance": [],
      "collapsed_sections": []
    },
    "kernelspec": {
      "name": "python3",
      "display_name": "Python 3"
    },
    "language_info": {
      "name": "python"
    }
  },
  "cells": [
    {
      "cell_type": "markdown",
      "metadata": {
        "id": "sKRaabqlJ3BN"
      },
      "source": [
        "[![Open In Colab](https://colab.research.google.com/assets/colab-badge.svg)](https://colab.research.google.com/github/guilbera/colorizing/blob/main/notebooks/keras_implementation/autoencoder_keras.ipynb)"
      ]
    },
    {
      "cell_type": "code",
      "metadata": {
        "id": "T5Pktusb60DD"
      },
      "source": [
        "import tensorflow as tf\n",
        "import numpy as np\n",
        "from tensorflow.python.keras.layers import Conv2D, UpSampling2D, Input, Reshape, concatenate\n",
        "from tensorflow.python.keras.models import Model, Sequential\n",
        "from tensorflow.python.keras.applications.inception_resnet_v2 import InceptionResNetV2, preprocess_input\n",
        "from tensorflow.python.keras.layers.core import RepeatVector\n",
        "from skimage.transform import resize"
      ],
      "execution_count": null,
      "outputs": []
    },
    {
      "cell_type": "code",
      "metadata": {
        "id": "dT0HscUc7RgV"
      },
      "source": [
        "def encoder(encoder_input):\n",
        "    encoder_output = Conv2D(64, (3,3), activation='relu', padding='same', strides=2)(encoder_input)\n",
        "    encoder_output = Conv2D(128, (3,3), activation='relu', padding='same')(encoder_output)\n",
        "    encoder_output = Conv2D(128, (3,3), activation='relu', padding='same', strides=2)(encoder_output)\n",
        "    encoder_output = Conv2D(256, (3,3), activation='relu', padding='same')(encoder_output)\n",
        "    encoder_output = Conv2D(256, (3,3), activation='relu', padding='same', strides=2)(encoder_output)\n",
        "    encoder_output = Conv2D(512, (3,3), activation='relu', padding='same')(encoder_output)\n",
        "    encoder_output = Conv2D(512, (3,3), activation='relu', padding='same')(encoder_output)\n",
        "    encoder_output = Conv2D(256, (3,3), activation='relu', padding='same')(encoder_output)\n",
        "    return encoder_output"
      ],
      "execution_count": null,
      "outputs": []
    },
    {
      "cell_type": "code",
      "metadata": {
        "id": "6j_FN_eJ7UMR"
      },
      "source": [
        "def decoder(decoder_input):\n",
        "    decoder_output = Conv2D(128, (3,3), activation='relu', padding='same')(decoder_input)\n",
        "    decoder_output = UpSampling2D((2, 2))(decoder_output)\n",
        "    decoder_output = Conv2D(64, (3,3), activation='relu', padding='same')(decoder_output)\n",
        "    decoder_output = UpSampling2D((2, 2))(decoder_output)\n",
        "    decoder_output = Conv2D(32, (3,3), activation='relu', padding='same')(decoder_output)\n",
        "    decoder_output = Conv2D(16, (3,3), activation='relu', padding='same')(decoder_output)\n",
        "    decoder_output = Conv2D(2, (3, 3), activation='tanh', padding='same')(decoder_output)\n",
        "    decoder_output = UpSampling2D((2, 2))(decoder_output)\n",
        "    return decoder_output"
      ],
      "execution_count": null,
      "outputs": []
    },
    {
      "cell_type": "code",
      "metadata": {
        "id": "aEdZo5NQ7y2e"
      },
      "source": [
        "def fusion(embed_input, encoder_output):\n",
        "    \"\"\"fusion layer for the gamma modell\"\"\"\n",
        "    fusion_output = RepeatVector(32 * 32)(embed_input) \n",
        "    fusion_output = Reshape(([32, 32, 1000]))(fusion_output)\n",
        "    fusion_output = concatenate([encoder_output, fusion_output], axis=3) \n",
        "    fusion_output = Conv2D(256, (1, 1), activation='relu', padding='same')(fusion_output)\n",
        "    return fusion_output"
      ],
      "execution_count": null,
      "outputs": []
    },
    {
      "cell_type": "code",
      "metadata": {
        "id": "mrq9KAFtGyeZ"
      },
      "source": [
        "def load_model():\n",
        "  \"\"\"load the classifier\"\"\"\n",
        "  graph = tf.Graph()\n",
        "  inception = InceptionResNetV2(weights='imagenet', include_top=True)\n",
        "  return graph, inception"
      ],
      "execution_count": null,
      "outputs": []
    },
    {
      "cell_type": "code",
      "metadata": {
        "id": "sY2rq6JIXsnr"
      },
      "source": [
        "def create_inception_embedding(grayscaled_rgb, graph, inception):\n",
        "    \"\"\"preprocess images for the classifier and returns the prediction\"\"\"\n",
        "    grayscaled_rgb_resized = []\n",
        "    for i in grayscaled_rgb:\n",
        "        i = resize(i, (299, 299, 3), mode='constant')\n",
        "        grayscaled_rgb_resized.append(i)\n",
        "    grayscaled_rgb_resized = np.array(grayscaled_rgb_resized)\n",
        "    grayscaled_rgb_resized = preprocess_input(grayscaled_rgb_resized)\n",
        "    embed = inception.predict(grayscaled_rgb_resized)\n",
        "    return embed"
      ],
      "execution_count": null,
      "outputs": []
    },
    {
      "cell_type": "code",
      "metadata": {
        "id": "jnwYI2o670wL"
      },
      "source": [
        "def model_beta(encoder_input, optimizer='adam'):\n",
        "    decoder_output = decoder(encoder(encoder_input))\n",
        "    model = Model(inputs=encoder_input, outputs=decoder_output)\n",
        "    model.compile(optimizer=optimizer, loss='mse',  metrics=['mse', 'mae', 'mape'])\n",
        "    return model"
      ],
      "execution_count": null,
      "outputs": []
    },
    {
      "cell_type": "code",
      "metadata": {
        "id": "5IQYv7kp72oY"
      },
      "source": [
        "def model_gamma(encoder_input, embed_input, optimizer='adam'):\n",
        "    decoder_output = decoder(fusion(embed_input, encoder(encoder_input)))\n",
        "    model = Model(inputs=[encoder_input,embed_input], outputs=decoder_output)\n",
        "    model.compile(optimizer=optimizer, loss='mse',  metrics=['mse', 'mae', 'mape'])\n",
        "    return model   "
      ],
      "execution_count": null,
      "outputs": []
    }
  ]
}