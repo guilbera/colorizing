{
  "nbformat": 4,
  "nbformat_minor": 0,
  "metadata": {
    "colab": {
      "name": "pix_keras.ipynb",
      "provenance": []
    },
    "kernelspec": {
      "name": "python3",
      "display_name": "Python 3"
    },
    "language_info": {
      "name": "python"
    }
  },
  "cells": [
    {
      "cell_type": "markdown",
      "metadata": {
        "id": "7mk-DquOEEeA"
      },
      "source": [
        "[![Open In Colab](https://colab.research.google.com/assets/colab-badge.svg)](https://colab.research.google.com/github/googlecolab/colabtools/blob/master/notebooks/colab-github-demo.ipynb)"
      ]
    },
    {
      "cell_type": "code",
      "metadata": {
        "colab": {
          "base_uri": "https://localhost:8080/"
        },
        "id": "UNX1a5I1Vh2c",
        "outputId": "693a23b0-ac62-43ca-9554-1a364ac06178"
      },
      "source": [
        "!pip install kora -q\n",
        "from kora import drive\n",
        "drive.link_nbs()"
      ],
      "execution_count": 1,
      "outputs": [
        {
          "output_type": "stream",
          "text": [
            "\u001b[K     |████████████████████████████████| 61kB 3.6MB/s \n",
            "\u001b[K     |████████████████████████████████| 61kB 5.5MB/s \n",
            "\u001b[?25hMounted at /content/drive\n"
          ],
          "name": "stdout"
        }
      ]
    },
    {
      "cell_type": "code",
      "metadata": {
        "id": "-nSTnFHREkGQ",
        "colab": {
          "base_uri": "https://localhost:8080/"
        },
        "outputId": "43a02196-4f6c-4b93-d94b-54c14aa2a73f"
      },
      "source": [
        "from pix import rgb_to_lab"
      ],
      "execution_count": 2,
      "outputs": [
        {
          "output_type": "stream",
          "text": [
            "importing Jupyter notebook from /nbs/pix.ipynb\n"
          ],
          "name": "stdout"
        }
      ]
    },
    {
      "cell_type": "code",
      "metadata": {
        "id": "Xklgwu8F1OPd"
      },
      "source": [
        "import numpy as np\n",
        "import tensorflow as tf\n",
        "from PIL import Image\n",
        "from skimage.color import rgb2lab, lab2rgb, rgb2gray, gray2rgb\n",
        "from skimage.transform import resize\n",
        "from tensorflow.python.keras.preprocessing.image import ImageDataGenerator"
      ],
      "execution_count": 3,
      "outputs": []
    },
    {
      "cell_type": "code",
      "metadata": {
        "id": "sh5FlSup8Vzc"
      },
      "source": [
        "def make_dataloaders(batch_size=16, im_size=256, val_split= 0.725, split = 'Train', path = '/content/dataset/'):\n",
        "    if split == 'Train':\n",
        "        # if training, augment the data\n",
        "        datagen = ImageDataGenerator(\n",
        "            rescale = 1/255.,\n",
        "            shear_range=0.2,\n",
        "            zoom_range=0.2,\n",
        "            rotation_range=20,\n",
        "            horizontal_flip=True,\n",
        "            validation_split=val_split)\n",
        "        # import from a directory with subdirectory 'Train', can split for validation\n",
        "        generator = datagen.flow_from_directory(\n",
        "            path,\n",
        "            target_size=(im_size, im_size),\n",
        "            color_mode='rgb',\n",
        "            batch_size = batch_size,\n",
        "            classes = [split],\n",
        "            subset = 'training',\n",
        "            class_mode='input',\n",
        "            shuffle=True)\n",
        "    elif split == 'Test':\n",
        "        # no data augmentation, just rescale the image to 0-1\n",
        "        datagen = ImageDataGenerator(\n",
        "            rescale = 1/255.,\n",
        "            )\n",
        "        # import from a directory with subdirectory 'Test', no shuffle\n",
        "        generator = datagen.flow_from_directory(\n",
        "            path,\n",
        "            target_size=(im_size, im_size),\n",
        "            color_mode='rgb',\n",
        "            batch_size = batch_size,\n",
        "            classes = [split],\n",
        "            class_mode='input',\n",
        "            shuffle=False)\n",
        "    return generator"
      ],
      "execution_count": 4,
      "outputs": []
    }
  ]
}