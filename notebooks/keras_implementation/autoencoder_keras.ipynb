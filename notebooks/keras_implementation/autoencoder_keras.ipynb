{
  "nbformat": 4,
  "nbformat_minor": 0,
  "metadata": {
    "colab": {
      "name": "autoencoder_keras.ipynb",
      "provenance": [],
      "collapsed_sections": []
    },
    "kernelspec": {
      "name": "python3",
      "display_name": "Python 3"
    },
    "language_info": {
      "name": "python"
    }
  },
  "cells": [
    {
      "cell_type": "markdown",
      "metadata": {
        "id": "sKRaabqlJ3BN"
      },
      "source": [
        "[![Open In Colab](https://colab.research.google.com/assets/colab-badge.svg)](https://colab.research.google.com/github/guilbera/colorizing/blob/main/notebooks/keras_implementation/autoencoder_keras.ipynb)"
      ]
    },
    {
      "cell_type": "code",
      "metadata": {
        "id": "T5Pktusb60DD"
      },
      "source": [
        "import tensorflow as tf\n",
        "import numpy as np\n",
        "from tensorflow.python.keras.layers import Conv2D, UpSampling2D, Input, Reshape, concatenate\n",
        "from tensorflow.python.keras.models import Model, Sequential\n",
        "from tensorflow.python.keras.applications.inception_resnet_v2 import InceptionResNetV2, preprocess_input\n",
        "from tensorflow.python.keras.layers.core import RepeatVector\n",
        "from skimage.transform import resize"
      ],
      "execution_count": 12,
      "outputs": []
    },
    {
      "cell_type": "code",
      "metadata": {
        "id": "dT0HscUc7RgV"
      },
      "source": [
        "def encoder(encoder_input):\n",
        "    encoder_output = Conv2D(64, (3,3), activation='relu', padding='same', strides=2)(encoder_input)\n",
        "    encoder_output = Conv2D(128, (3,3), activation='relu', padding='same')(encoder_output)\n",
        "    encoder_output = Conv2D(128, (3,3), activation='relu', padding='same', strides=2)(encoder_output)\n",
        "    encoder_output = Conv2D(256, (3,3), activation='relu', padding='same')(encoder_output)\n",
        "    encoder_output = Conv2D(256, (3,3), activation='relu', padding='same', strides=2)(encoder_output)\n",
        "    encoder_output = Conv2D(512, (3,3), activation='relu', padding='same')(encoder_output)\n",
        "    encoder_output = Conv2D(512, (3,3), activation='relu', padding='same')(encoder_output)\n",
        "    encoder_output = Conv2D(256, (3,3), activation='relu', padding='same')(encoder_output)\n",
        "    return encoder_output"
      ],
      "execution_count": 13,
      "outputs": []
    },
    {
      "cell_type": "code",
      "metadata": {
        "id": "6j_FN_eJ7UMR"
      },
      "source": [
        "def decoder(decoder_input):\n",
        "    decoder_output = Conv2D(128, (3,3), activation='relu', padding='same')(decoder_input)\n",
        "    decoder_output = UpSampling2D((2, 2))(decoder_output)\n",
        "    decoder_output = Conv2D(64, (3,3), activation='relu', padding='same')(decoder_output)\n",
        "    decoder_output = UpSampling2D((2, 2))(decoder_output)\n",
        "    decoder_output = Conv2D(32, (3,3), activation='relu', padding='same')(decoder_output)\n",
        "    decoder_output = Conv2D(16, (3,3), activation='relu', padding='same')(decoder_output)\n",
        "    decoder_output = Conv2D(2, (3, 3), activation='tanh', padding='same')(decoder_output)\n",
        "    decoder_output = UpSampling2D((2, 2))(decoder_output)\n",
        "    return decoder_output"
      ],
      "execution_count": 14,
      "outputs": []
    },
    {
      "cell_type": "code",
      "metadata": {
        "id": "aEdZo5NQ7y2e"
      },
      "source": [
        "def fusion(embed_input, encoder_output):\n",
        "    \"\"\"fusion layer for the gamma modell\"\"\"\n",
        "    fusion_output = RepeatVector(32 * 32)(embed_input) \n",
        "    fusion_output = Reshape(([32, 32, 1000]))(fusion_output)\n",
        "    fusion_output = concatenate([encoder_output, fusion_output], axis=3) \n",
        "    fusion_output = Conv2D(256, (1, 1), activation='relu', padding='same')(fusion_output)\n",
        "    return fusion_output"
      ],
      "execution_count": 15,
      "outputs": []
    },
    {
      "cell_type": "code",
      "metadata": {
        "id": "mrq9KAFtGyeZ"
      },
      "source": [
        "def load_model():\n",
        "  \"\"\"load the classifier\"\"\"\n",
        "  graph = tf.Graph()\n",
        "  inception = InceptionResNetV2(weights='imagenet', include_top=True)\n",
        "  return graph, inception"
      ],
      "execution_count": 16,
      "outputs": []
    },
    {
      "cell_type": "code",
      "metadata": {
        "id": "sY2rq6JIXsnr"
      },
      "source": [
        "def create_inception_embedding(grayscaled_rgb, graph, inception):\n",
        "    \"\"\"preprocess images for the classifier and returns the prediction\"\"\"\n",
        "    grayscaled_rgb_resized = []\n",
        "    for i in grayscaled_rgb:\n",
        "        i = resize(i, (299, 299, 3), mode='constant')\n",
        "        grayscaled_rgb_resized.append(i)\n",
        "    grayscaled_rgb_resized = np.array(grayscaled_rgb_resized)\n",
        "    grayscaled_rgb_resized = preprocess_input(grayscaled_rgb_resized)\n",
        "    embed = inception.predict(grayscaled_rgb_resized)\n",
        "    return embed"
      ],
      "execution_count": 17,
      "outputs": []
    },
    {
      "cell_type": "code",
      "metadata": {
        "id": "jnwYI2o670wL"
      },
      "source": [
        "def model_beta(encoder_input, optimizer='adam'):\n",
        "    decoder_output = decoder(encoder(encoder_input))\n",
        "    model = Model(inputs=encoder_input, outputs=decoder_output)\n",
        "    model.compile(optimizer=optimizer, loss='mse',  metrics=['mse', 'mae', 'mape'])\n",
        "    return model"
      ],
      "execution_count": 18,
      "outputs": []
    },
    {
      "cell_type": "code",
      "metadata": {
        "id": "5IQYv7kp72oY"
      },
      "source": [
        "def model_gamma(encoder_input, embed_input, optimizer='adam'):\n",
        "    decoder_output = decoder(fusion(embed_input, encoder(encoder_input)))\n",
        "    model = Model(inputs=[encoder_input,embed_input], outputs=decoder_output)\n",
        "    model.compile(optimizer=optimizer, loss='mse',  metrics=['mse', 'mae', 'mape'])\n",
        "    return model   "
      ],
      "execution_count": 19,
      "outputs": []
    },
    {
      "cell_type": "code",
      "metadata": {
        "id": "BtAwJhMAOmt5"
      },
      "source": [
        "show_model_beta = False\n",
        "show_model_gamma = False"
      ],
      "execution_count": 23,
      "outputs": []
    },
    {
      "cell_type": "code",
      "metadata": {
        "id": "J8Q5Wo86Ooy5",
        "outputId": "5935c5dd-b5f8-4afb-948c-87f0f85ba2a3",
        "colab": {
          "base_uri": "https://localhost:8080/"
        }
      },
      "source": [
        "if show_model_beta:\n",
        "  encoder_input = Input(shape=(256, 256, 1,))\n",
        "  model = model_beta(encoder_input)\n",
        "  model.summary()"
      ],
      "execution_count": 21,
      "outputs": [
        {
          "output_type": "stream",
          "text": [
            "Model: \"model\"\n",
            "_________________________________________________________________\n",
            "Layer (type)                 Output Shape              Param #   \n",
            "=================================================================\n",
            "input_1 (InputLayer)         [(None, 256, 256, 1)]     0         \n",
            "_________________________________________________________________\n",
            "conv2d (Conv2D)              (None, 128, 128, 64)      640       \n",
            "_________________________________________________________________\n",
            "conv2d_1 (Conv2D)            (None, 128, 128, 128)     73856     \n",
            "_________________________________________________________________\n",
            "conv2d_2 (Conv2D)            (None, 64, 64, 128)       147584    \n",
            "_________________________________________________________________\n",
            "conv2d_3 (Conv2D)            (None, 64, 64, 256)       295168    \n",
            "_________________________________________________________________\n",
            "conv2d_4 (Conv2D)            (None, 32, 32, 256)       590080    \n",
            "_________________________________________________________________\n",
            "conv2d_5 (Conv2D)            (None, 32, 32, 512)       1180160   \n",
            "_________________________________________________________________\n",
            "conv2d_6 (Conv2D)            (None, 32, 32, 512)       2359808   \n",
            "_________________________________________________________________\n",
            "conv2d_7 (Conv2D)            (None, 32, 32, 256)       1179904   \n",
            "_________________________________________________________________\n",
            "conv2d_8 (Conv2D)            (None, 32, 32, 128)       295040    \n",
            "_________________________________________________________________\n",
            "up_sampling2d (UpSampling2D) (None, 64, 64, 128)       0         \n",
            "_________________________________________________________________\n",
            "conv2d_9 (Conv2D)            (None, 64, 64, 64)        73792     \n",
            "_________________________________________________________________\n",
            "up_sampling2d_1 (UpSampling2 (None, 128, 128, 64)      0         \n",
            "_________________________________________________________________\n",
            "conv2d_10 (Conv2D)           (None, 128, 128, 32)      18464     \n",
            "_________________________________________________________________\n",
            "conv2d_11 (Conv2D)           (None, 128, 128, 16)      4624      \n",
            "_________________________________________________________________\n",
            "conv2d_12 (Conv2D)           (None, 128, 128, 2)       290       \n",
            "_________________________________________________________________\n",
            "up_sampling2d_2 (UpSampling2 (None, 256, 256, 2)       0         \n",
            "=================================================================\n",
            "Total params: 6,219,410\n",
            "Trainable params: 6,219,410\n",
            "Non-trainable params: 0\n",
            "_________________________________________________________________\n"
          ],
          "name": "stdout"
        }
      ]
    },
    {
      "cell_type": "code",
      "metadata": {
        "id": "ADEwajNGPBLS",
        "outputId": "c3dc6bdb-9f24-444f-83d7-00a206bbb397",
        "colab": {
          "base_uri": "https://localhost:8080/"
        }
      },
      "source": [
        "if show_model_gamma:\n",
        "  encoder_input = Input(shape=(256, 256, 1,))\n",
        "  embed_input = Input(shape=(1000,))\n",
        "  model = model_gamma(encoder_input, embed_input)\n",
        "  model.summary()"
      ],
      "execution_count": 22,
      "outputs": [
        {
          "output_type": "stream",
          "text": [
            "Model: \"model_1\"\n",
            "__________________________________________________________________________________________________\n",
            "Layer (type)                    Output Shape         Param #     Connected to                     \n",
            "==================================================================================================\n",
            "input_2 (InputLayer)            [(None, 256, 256, 1) 0                                            \n",
            "__________________________________________________________________________________________________\n",
            "conv2d_13 (Conv2D)              (None, 128, 128, 64) 640         input_2[0][0]                    \n",
            "__________________________________________________________________________________________________\n",
            "conv2d_14 (Conv2D)              (None, 128, 128, 128 73856       conv2d_13[0][0]                  \n",
            "__________________________________________________________________________________________________\n",
            "conv2d_15 (Conv2D)              (None, 64, 64, 128)  147584      conv2d_14[0][0]                  \n",
            "__________________________________________________________________________________________________\n",
            "conv2d_16 (Conv2D)              (None, 64, 64, 256)  295168      conv2d_15[0][0]                  \n",
            "__________________________________________________________________________________________________\n",
            "conv2d_17 (Conv2D)              (None, 32, 32, 256)  590080      conv2d_16[0][0]                  \n",
            "__________________________________________________________________________________________________\n",
            "conv2d_18 (Conv2D)              (None, 32, 32, 512)  1180160     conv2d_17[0][0]                  \n",
            "__________________________________________________________________________________________________\n",
            "input_3 (InputLayer)            [(None, 1000)]       0                                            \n",
            "__________________________________________________________________________________________________\n",
            "conv2d_19 (Conv2D)              (None, 32, 32, 512)  2359808     conv2d_18[0][0]                  \n",
            "__________________________________________________________________________________________________\n",
            "repeat_vector (RepeatVector)    (None, 1024, 1000)   0           input_3[0][0]                    \n",
            "__________________________________________________________________________________________________\n",
            "conv2d_20 (Conv2D)              (None, 32, 32, 256)  1179904     conv2d_19[0][0]                  \n",
            "__________________________________________________________________________________________________\n",
            "reshape (Reshape)               (None, 32, 32, 1000) 0           repeat_vector[0][0]              \n",
            "__________________________________________________________________________________________________\n",
            "concatenate (Concatenate)       (None, 32, 32, 1256) 0           conv2d_20[0][0]                  \n",
            "                                                                 reshape[0][0]                    \n",
            "__________________________________________________________________________________________________\n",
            "conv2d_21 (Conv2D)              (None, 32, 32, 256)  321792      concatenate[0][0]                \n",
            "__________________________________________________________________________________________________\n",
            "conv2d_22 (Conv2D)              (None, 32, 32, 128)  295040      conv2d_21[0][0]                  \n",
            "__________________________________________________________________________________________________\n",
            "up_sampling2d_3 (UpSampling2D)  (None, 64, 64, 128)  0           conv2d_22[0][0]                  \n",
            "__________________________________________________________________________________________________\n",
            "conv2d_23 (Conv2D)              (None, 64, 64, 64)   73792       up_sampling2d_3[0][0]            \n",
            "__________________________________________________________________________________________________\n",
            "up_sampling2d_4 (UpSampling2D)  (None, 128, 128, 64) 0           conv2d_23[0][0]                  \n",
            "__________________________________________________________________________________________________\n",
            "conv2d_24 (Conv2D)              (None, 128, 128, 32) 18464       up_sampling2d_4[0][0]            \n",
            "__________________________________________________________________________________________________\n",
            "conv2d_25 (Conv2D)              (None, 128, 128, 16) 4624        conv2d_24[0][0]                  \n",
            "__________________________________________________________________________________________________\n",
            "conv2d_26 (Conv2D)              (None, 128, 128, 2)  290         conv2d_25[0][0]                  \n",
            "__________________________________________________________________________________________________\n",
            "up_sampling2d_5 (UpSampling2D)  (None, 256, 256, 2)  0           conv2d_26[0][0]                  \n",
            "==================================================================================================\n",
            "Total params: 6,541,202\n",
            "Trainable params: 6,541,202\n",
            "Non-trainable params: 0\n",
            "__________________________________________________________________________________________________\n"
          ],
          "name": "stdout"
        }
      ]
    }
  ]
}