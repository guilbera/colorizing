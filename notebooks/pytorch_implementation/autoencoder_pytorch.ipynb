{
  "nbformat": 4,
  "nbformat_minor": 0,
  "metadata": {
    "colab": {
      "name": "autoencoder_pytorch.ipynb",
      "provenance": [],
      "collapsed_sections": []
    },
    "kernelspec": {
      "name": "python3",
      "display_name": "Python 3"
    },
    "language_info": {
      "name": "python"
    }
  },
  "cells": [
    {
      "cell_type": "markdown",
      "metadata": {
        "id": "DN6O-tigUYTU"
      },
      "source": [
        "[![Open In Colab](https://colab.research.google.com/assets/colab-badge.svg)](https://colab.research.google.com/github/guilbera/colorizing/blob/main/notebooks/pytorch_implementation/autoencoder_pytorch.ipynb)"
      ]
    },
    {
      "cell_type": "code",
      "metadata": {
        "id": "6p_WR3zutfeD"
      },
      "source": [
        "import torch\n",
        "import torchvision.models as models\n",
        "from torch import nn\n",
        "from torchsummary import summary\n",
        "from torchvision import transforms"
      ],
      "execution_count": null,
      "outputs": []
    },
    {
      "cell_type": "code",
      "metadata": {
        "id": "xr-aOFDptuy_"
      },
      "source": [
        "class BetaModel(nn.Module):\n",
        "    def __init__(self):\n",
        "        super(BetaModel, self).__init__()\n",
        "        self.relu = nn.ReLU()\n",
        "        self.tanh = nn.Tanh()\n",
        "        self.upsample = nn.Upsample(scale_factor=(2,2))\n",
        "        self.conv2d_1 = nn.Conv2d(in_channels=1,out_channels=64,kernel_size=(3,3),stride=2,padding=(1,1))\n",
        "        self.conv2d_2 = nn.Conv2d(in_channels=64,out_channels=128,kernel_size=(3,3),stride=1,padding=(1,1))\n",
        "        self.conv2d_3 = nn.Conv2d(in_channels=128,out_channels=128,kernel_size=(3,3),stride=2,padding=(1,1))\n",
        "        self.conv2d_4 = nn.Conv2d(in_channels=128,out_channels=256,kernel_size=(3,3),stride=1,padding=(1,1))\n",
        "        self.conv2d_5 = nn.Conv2d(in_channels=256,out_channels=256,kernel_size=(3,3),stride=2,padding=(1,1))\n",
        "        self.conv2d_6 = nn.Conv2d(in_channels=256,out_channels=512,kernel_size=(3,3),stride=1,padding=(1,1))\n",
        "        self.conv2d_7 = nn.Conv2d(in_channels=512,out_channels=512,kernel_size=(3,3),stride=1,padding=(1,1))\n",
        "        self.conv2d_8 = nn.Conv2d(in_channels=512,out_channels=256,kernel_size=(3,3),stride=1,padding=(1,1))\n",
        "        self.conv2d_9 = nn.Conv2d(in_channels=256,out_channels=128,kernel_size=(3,3),stride=1,padding=(1,1))\n",
        "        self.conv2d_10 = nn.Conv2d(in_channels=128,out_channels=64,kernel_size=(3,3),stride=1,padding=(1,1))\n",
        "        self.conv2d_11 = nn.Conv2d(in_channels=64,out_channels=32,kernel_size=(3,3),stride=1,padding=(1,1))\n",
        "        self.conv2d_12 = nn.Conv2d(in_channels=32,out_channels=16,kernel_size=(3,3),stride=1,padding=(1,1))\n",
        "        self.conv2d_13 = nn.Conv2d(in_channels=16,out_channels=2,kernel_size=(3,3),stride=1,padding=(1,1))\n",
        "\n",
        "    def encoder(self, encoder_input):\n",
        "        encoder_output = self.relu(self.conv2d_1(encoder_input))\n",
        "        encoder_output = self.relu(self.conv2d_2(encoder_output))\n",
        "        encoder_output = self.relu(self.conv2d_3(encoder_output))\n",
        "        encoder_output = self.relu(self.conv2d_4(encoder_output))\n",
        "        encoder_output = self.relu(self.conv2d_5(encoder_output))\n",
        "        encoder_output = self.relu(self.conv2d_6(encoder_output))\n",
        "        encoder_output = self.relu(self.conv2d_7(encoder_output))\n",
        "        encoder_output = self.relu(self.conv2d_8(encoder_output))\n",
        "        return encoder_output\n",
        "\n",
        "    def decoder(self, decoder_input):\n",
        "        decoder_output = self.relu(self.conv2d_9(decoder_input))\n",
        "        decoder_output = self.upsample(decoder_output)\n",
        "        decoder_output = self.relu(self.conv2d_10(decoder_output))\n",
        "        decoder_output = self.upsample(decoder_output)\n",
        "        decoder_output = self.relu(self.conv2d_11(decoder_output))\n",
        "        decoder_output = self.relu(self.conv2d_12(decoder_output))\n",
        "        decoder_output = self.tanh(self.conv2d_13(decoder_output))\n",
        "        decoder_output = self.upsample(decoder_output)\n",
        "        return decoder_output\n",
        "    \n",
        "    def forward(self, x):\n",
        "      return self.decoder(self.encoder(x))"
      ],
      "execution_count": null,
      "outputs": []
    },
    {
      "cell_type": "code",
      "metadata": {
        "id": "TVJg4zlfwWDa"
      },
      "source": [
        "def load_model():\n",
        "  \"\"\"load the classifier, use eval as the classifier is not being trained during the model training\"\"\"\n",
        "  inception = models.mobilenet_v2(pretrained=True)\n",
        "  inception.eval()\n",
        "  return inception"
      ],
      "execution_count": null,
      "outputs": []
    },
    {
      "cell_type": "code",
      "metadata": {
        "id": "SIBXgS_mwc7M"
      },
      "source": [
        "class GammaModel(nn.Module):\n",
        "    def __init__(self):\n",
        "        super(GammaModel, self).__init__()\n",
        "        self.relu = nn.ReLU()\n",
        "        self.tanh = nn.Tanh()\n",
        "        self.upsample = nn.Upsample(scale_factor=(2,2))\n",
        "        self.conv2d_1 = nn.Conv2d(in_channels=1,out_channels=64,kernel_size=(3,3),stride=2,padding=(1,1))\n",
        "        self.conv2d_2 = nn.Conv2d(in_channels=64,out_channels=128,kernel_size=(3,3),stride=1,padding=(1,1))\n",
        "        self.conv2d_3 = nn.Conv2d(in_channels=128,out_channels=128,kernel_size=(3,3),stride=2,padding=(1,1))\n",
        "        self.conv2d_4 = nn.Conv2d(in_channels=128,out_channels=256,kernel_size=(3,3),stride=1,padding=(1,1))\n",
        "        self.conv2d_5 = nn.Conv2d(in_channels=256,out_channels=256,kernel_size=(3,3),stride=2,padding=(1,1))\n",
        "        self.conv2d_6 = nn.Conv2d(in_channels=256,out_channels=512,kernel_size=(3,3),stride=1,padding=(1,1))\n",
        "        self.conv2d_7 = nn.Conv2d(in_channels=512,out_channels=512,kernel_size=(3,3),stride=1,padding=(1,1))\n",
        "        self.conv2d_8 = nn.Conv2d(in_channels=512,out_channels=256,kernel_size=(3,3),stride=1,padding=(1,1))\n",
        "        \n",
        "        self.conv2d_9 = nn.Conv2d(in_channels=1256,out_channels=256,kernel_size=(1,1),stride=1,padding=(0,0))\n",
        "        \n",
        "        self.conv2d_10 = nn.Conv2d(in_channels=256,out_channels=128,kernel_size=(3,3),stride=1,padding=(1,1))\n",
        "        self.conv2d_11 = nn.Conv2d(in_channels=128,out_channels=64,kernel_size=(3,3),stride=1,padding=(1,1))\n",
        "        self.conv2d_12 = nn.Conv2d(in_channels=64,out_channels=32,kernel_size=(3,3),stride=1,padding=(1,1))\n",
        "        self.conv2d_13 = nn.Conv2d(in_channels=32,out_channels=16,kernel_size=(3,3),stride=1,padding=(1,1))\n",
        "        self.conv2d_14 = nn.Conv2d(in_channels=16,out_channels=2,kernel_size=(3,3),stride=1,padding=(1,1))       \n",
        "\n",
        "    def encoder(self, encoder_input):\n",
        "        encoder_output = self.relu(self.conv2d_1(encoder_input))\n",
        "        encoder_output = self.relu(self.conv2d_2(encoder_output))\n",
        "        encoder_output = self.relu(self.conv2d_3(encoder_output))\n",
        "        encoder_output = self.relu(self.conv2d_4(encoder_output))\n",
        "        encoder_output = self.relu(self.conv2d_5(encoder_output))\n",
        "        encoder_output = self.relu(self.conv2d_6(encoder_output))\n",
        "        encoder_output = self.relu(self.conv2d_7(encoder_output))\n",
        "        encoder_output = self.relu(self.conv2d_8(encoder_output))\n",
        "        return encoder_output\n",
        "\n",
        "    def decoder(self, decoder_input):\n",
        "        decoder_output = self.relu(self.conv2d_10(decoder_input))\n",
        "        decoder_output = self.upsample(decoder_output)\n",
        "        decoder_output = self.relu(self.conv2d_11(decoder_output))\n",
        "        decoder_output = self.upsample(decoder_output)\n",
        "        decoder_output = self.relu(self.conv2d_12(decoder_output))\n",
        "        decoder_output = self.relu(self.conv2d_13(decoder_output))\n",
        "        decoder_output = self.tanh(self.conv2d_14(decoder_output))\n",
        "        decoder_output = self.upsample(decoder_output)\n",
        "        return decoder_output\n",
        "    \n",
        "    def fusion(self, embed_input, encoder_output):\n",
        "        fusion_output = embed_input.reshape([-1,1000,1,1])\n",
        "        fusion_output = fusion_output.repeat(1,1,32*32,1)\n",
        "        fusion_output = torch.reshape(fusion_output, (-1,1000, 32,32))\n",
        "        fusion_output = torch.cat((encoder_output, fusion_output), 1)\n",
        "        fusion_output = self.relu(self.conv2d_9(fusion_output))\n",
        "        return fusion_output\n",
        "\n",
        "    def forward(self, x, embed_input):\n",
        "      return self.decoder(self.fusion(embed_input, self.encoder(x)))"
      ],
      "execution_count": null,
      "outputs": []
    },
    {
      "cell_type": "markdown",
      "metadata": {
        "id": "wGFz_cZ5VBQy"
      },
      "source": [
        "### Summary of the models"
      ]
    },
    {
      "cell_type": "code",
      "metadata": {
        "id": "5TwPmZNxVGot"
      },
      "source": [
        "show_summary = False"
      ],
      "execution_count": null,
      "outputs": []
    },
    {
      "cell_type": "code",
      "metadata": {
        "colab": {
          "base_uri": "https://localhost:8080/"
        },
        "id": "DImIu7DmU7m4",
        "outputId": "4699dd81-596b-4da5-e446-4ad22c928150"
      },
      "source": [
        "if show_summary:\n",
        "  model = BetaModel()\n",
        "  summary(model, (1, 256, 256))"
      ],
      "execution_count": null,
      "outputs": [
        {
          "output_type": "stream",
          "text": [
            "----------------------------------------------------------------\n",
            "        Layer (type)               Output Shape         Param #\n",
            "================================================================\n",
            "            Conv2d-1         [-1, 64, 128, 128]             640\n",
            "              ReLU-2         [-1, 64, 128, 128]               0\n",
            "            Conv2d-3        [-1, 128, 128, 128]          73,856\n",
            "              ReLU-4        [-1, 128, 128, 128]               0\n",
            "            Conv2d-5          [-1, 128, 64, 64]         147,584\n",
            "              ReLU-6          [-1, 128, 64, 64]               0\n",
            "            Conv2d-7          [-1, 256, 64, 64]         295,168\n",
            "              ReLU-8          [-1, 256, 64, 64]               0\n",
            "            Conv2d-9          [-1, 256, 32, 32]         590,080\n",
            "             ReLU-10          [-1, 256, 32, 32]               0\n",
            "           Conv2d-11          [-1, 512, 32, 32]       1,180,160\n",
            "             ReLU-12          [-1, 512, 32, 32]               0\n",
            "           Conv2d-13          [-1, 512, 32, 32]       2,359,808\n",
            "             ReLU-14          [-1, 512, 32, 32]               0\n",
            "           Conv2d-15          [-1, 256, 32, 32]       1,179,904\n",
            "             ReLU-16          [-1, 256, 32, 32]               0\n",
            "           Conv2d-17          [-1, 128, 32, 32]         295,040\n",
            "             ReLU-18          [-1, 128, 32, 32]               0\n",
            "         Upsample-19          [-1, 128, 64, 64]               0\n",
            "           Conv2d-20           [-1, 64, 64, 64]          73,792\n",
            "             ReLU-21           [-1, 64, 64, 64]               0\n",
            "         Upsample-22         [-1, 64, 128, 128]               0\n",
            "           Conv2d-23         [-1, 32, 128, 128]          18,464\n",
            "             ReLU-24         [-1, 32, 128, 128]               0\n",
            "           Conv2d-25         [-1, 16, 128, 128]           4,624\n",
            "             ReLU-26         [-1, 16, 128, 128]               0\n",
            "           Conv2d-27          [-1, 2, 128, 128]             290\n",
            "             Tanh-28          [-1, 2, 128, 128]               0\n",
            "         Upsample-29          [-1, 2, 256, 256]               0\n",
            "================================================================\n",
            "Total params: 6,219,410\n",
            "Trainable params: 6,219,410\n",
            "Non-trainable params: 0\n",
            "----------------------------------------------------------------\n",
            "Input size (MB): 0.25\n",
            "Forward/backward pass size (MB): 127.50\n",
            "Params size (MB): 23.73\n",
            "Estimated Total Size (MB): 151.48\n",
            "----------------------------------------------------------------\n"
          ],
          "name": "stdout"
        }
      ]
    },
    {
      "cell_type": "code",
      "metadata": {
        "colab": {
          "base_uri": "https://localhost:8080/"
        },
        "id": "zu9emETRU-hF",
        "outputId": "517d4060-99ca-4ac2-fd39-9aeb852eb897"
      },
      "source": [
        "if show_summary:\n",
        "  model = GammaModel()\n",
        "  summary(model, [(1, 256, 256), (1, 1, 1000)])"
      ],
      "execution_count": null,
      "outputs": [
        {
          "output_type": "stream",
          "text": [
            "----------------------------------------------------------------\n",
            "        Layer (type)               Output Shape         Param #\n",
            "================================================================\n",
            "            Conv2d-1         [-1, 64, 128, 128]             640\n",
            "              ReLU-2         [-1, 64, 128, 128]               0\n",
            "            Conv2d-3        [-1, 128, 128, 128]          73,856\n",
            "              ReLU-4        [-1, 128, 128, 128]               0\n",
            "            Conv2d-5          [-1, 128, 64, 64]         147,584\n",
            "              ReLU-6          [-1, 128, 64, 64]               0\n",
            "            Conv2d-7          [-1, 256, 64, 64]         295,168\n",
            "              ReLU-8          [-1, 256, 64, 64]               0\n",
            "            Conv2d-9          [-1, 256, 32, 32]         590,080\n",
            "             ReLU-10          [-1, 256, 32, 32]               0\n",
            "           Conv2d-11          [-1, 512, 32, 32]       1,180,160\n",
            "             ReLU-12          [-1, 512, 32, 32]               0\n",
            "           Conv2d-13          [-1, 512, 32, 32]       2,359,808\n",
            "             ReLU-14          [-1, 512, 32, 32]               0\n",
            "           Conv2d-15          [-1, 256, 32, 32]       1,179,904\n",
            "             ReLU-16          [-1, 256, 32, 32]               0\n",
            "           Conv2d-17          [-1, 256, 32, 32]         321,792\n",
            "             ReLU-18          [-1, 256, 32, 32]               0\n",
            "           Conv2d-19          [-1, 128, 32, 32]         295,040\n",
            "             ReLU-20          [-1, 128, 32, 32]               0\n",
            "         Upsample-21          [-1, 128, 64, 64]               0\n",
            "           Conv2d-22           [-1, 64, 64, 64]          73,792\n",
            "             ReLU-23           [-1, 64, 64, 64]               0\n",
            "         Upsample-24         [-1, 64, 128, 128]               0\n",
            "           Conv2d-25         [-1, 32, 128, 128]          18,464\n",
            "             ReLU-26         [-1, 32, 128, 128]               0\n",
            "           Conv2d-27         [-1, 16, 128, 128]           4,624\n",
            "             ReLU-28         [-1, 16, 128, 128]               0\n",
            "           Conv2d-29          [-1, 2, 128, 128]             290\n",
            "             Tanh-30          [-1, 2, 128, 128]               0\n",
            "         Upsample-31          [-1, 2, 256, 256]               0\n",
            "================================================================\n",
            "Total params: 6,541,202\n",
            "Trainable params: 6,541,202\n",
            "Non-trainable params: 0\n",
            "----------------------------------------------------------------\n",
            "Input size (MB): 250.00\n",
            "Forward/backward pass size (MB): 131.50\n",
            "Params size (MB): 24.95\n",
            "Estimated Total Size (MB): 406.45\n",
            "----------------------------------------------------------------\n"
          ],
          "name": "stdout"
        }
      ]
    }
  ]
}